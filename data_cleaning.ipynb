{
 "cells": [
  {
   "cell_type": "code",
   "execution_count": 4,
   "metadata": {
    "_cell_guid": "85ebf22f-2673-cf92-99f2-f0024d3d7983",
    "collapsed": false
   },
   "outputs": [
    {
     "name": "stdout",
     "output_type": "stream",
     "text": [
      "Populating the interactive namespace from numpy and matplotlib\n"
     ]
    }
   ],
   "source": [
    "import numpy as np\n",
    "import pandas as pd\n",
    "import seaborn as sns\n",
    "import matplotlib.pyplot as plt\n",
    "%pylab inline\n",
    "pylab.rcParams['figure.figsize'] = (10, 6)"
   ]
  },
  {
   "cell_type": "code",
   "execution_count": 2,
   "metadata": {
    "_cell_guid": "a833c896-c0a7-86b1-dff7-cdf3325cebfb",
    "collapsed": false
   },
   "outputs": [
    {
     "name": "stderr",
     "output_type": "stream",
     "text": [
      "/Users/Lynn/anaconda/lib/python3.5/site-packages/IPython/core/interactiveshell.py:2723: DtypeWarning: Columns (5,8,11,15) have mixed types. Specify dtype option on import or set low_memory=False.\n",
      "  interactivity=interactivity, compiler=compiler, result=result)\n",
      "/Users/Lynn/anaconda/lib/python3.5/site-packages/numpy/lib/function_base.py:3834: RuntimeWarning: Invalid value encountered in percentile\n",
      "  RuntimeWarning)\n"
     ]
    },
    {
     "data": {
      "text/html": [
       "<div>\n",
       "<table border=\"1\" class=\"dataframe\">\n",
       "  <thead>\n",
       "    <tr style=\"text-align: right;\">\n",
       "      <th></th>\n",
       "      <th>ncodpers</th>\n",
       "      <th>indrel</th>\n",
       "      <th>tipodom</th>\n",
       "      <th>cod_prov</th>\n",
       "      <th>ind_actividad_cliente</th>\n",
       "      <th>renta</th>\n",
       "      <th>ind_ahor_fin_ult1</th>\n",
       "      <th>ind_aval_fin_ult1</th>\n",
       "      <th>ind_cco_fin_ult1</th>\n",
       "      <th>ind_cder_fin_ult1</th>\n",
       "      <th>...</th>\n",
       "      <th>ind_hip_fin_ult1</th>\n",
       "      <th>ind_plan_fin_ult1</th>\n",
       "      <th>ind_pres_fin_ult1</th>\n",
       "      <th>ind_reca_fin_ult1</th>\n",
       "      <th>ind_tjcr_fin_ult1</th>\n",
       "      <th>ind_valo_fin_ult1</th>\n",
       "      <th>ind_viv_fin_ult1</th>\n",
       "      <th>ind_nomina_ult1</th>\n",
       "      <th>ind_nom_pens_ult1</th>\n",
       "      <th>ind_recibo_ult1</th>\n",
       "    </tr>\n",
       "  </thead>\n",
       "  <tbody>\n",
       "    <tr>\n",
       "      <th>count</th>\n",
       "      <td>1.364731e+07</td>\n",
       "      <td>1.361958e+07</td>\n",
       "      <td>13619574.0</td>\n",
       "      <td>1.355372e+07</td>\n",
       "      <td>1.361958e+07</td>\n",
       "      <td>1.085293e+07</td>\n",
       "      <td>1.364731e+07</td>\n",
       "      <td>1.364731e+07</td>\n",
       "      <td>1.364731e+07</td>\n",
       "      <td>1.364731e+07</td>\n",
       "      <td>...</td>\n",
       "      <td>1.364731e+07</td>\n",
       "      <td>1.364731e+07</td>\n",
       "      <td>1.364731e+07</td>\n",
       "      <td>1.364731e+07</td>\n",
       "      <td>1.364731e+07</td>\n",
       "      <td>1.364731e+07</td>\n",
       "      <td>1.364731e+07</td>\n",
       "      <td>1.363125e+07</td>\n",
       "      <td>1.363125e+07</td>\n",
       "      <td>1.364731e+07</td>\n",
       "    </tr>\n",
       "    <tr>\n",
       "      <th>mean</th>\n",
       "      <td>8.349042e+05</td>\n",
       "      <td>1.178399e+00</td>\n",
       "      <td>1.0</td>\n",
       "      <td>2.657147e+01</td>\n",
       "      <td>4.578105e-01</td>\n",
       "      <td>1.342543e+05</td>\n",
       "      <td>1.022912e-04</td>\n",
       "      <td>2.315475e-05</td>\n",
       "      <td>6.554837e-01</td>\n",
       "      <td>3.939238e-04</td>\n",
       "      <td>...</td>\n",
       "      <td>5.886582e-03</td>\n",
       "      <td>9.170965e-03</td>\n",
       "      <td>2.627404e-03</td>\n",
       "      <td>5.253636e-02</td>\n",
       "      <td>4.438868e-02</td>\n",
       "      <td>2.560761e-02</td>\n",
       "      <td>3.847718e-03</td>\n",
       "      <td>5.472434e-02</td>\n",
       "      <td>5.942854e-02</td>\n",
       "      <td>1.279162e-01</td>\n",
       "    </tr>\n",
       "    <tr>\n",
       "      <th>std</th>\n",
       "      <td>4.315650e+05</td>\n",
       "      <td>4.177469e+00</td>\n",
       "      <td>0.0</td>\n",
       "      <td>1.278402e+01</td>\n",
       "      <td>4.982169e-01</td>\n",
       "      <td>2.306202e+05</td>\n",
       "      <td>1.011340e-02</td>\n",
       "      <td>4.811883e-03</td>\n",
       "      <td>4.752103e-01</td>\n",
       "      <td>1.984361e-02</td>\n",
       "      <td>...</td>\n",
       "      <td>7.649791e-02</td>\n",
       "      <td>9.532502e-02</td>\n",
       "      <td>5.119083e-02</td>\n",
       "      <td>2.231060e-01</td>\n",
       "      <td>2.059571e-01</td>\n",
       "      <td>1.579616e-01</td>\n",
       "      <td>6.191053e-02</td>\n",
       "      <td>2.274414e-01</td>\n",
       "      <td>2.364250e-01</td>\n",
       "      <td>3.339965e-01</td>\n",
       "    </tr>\n",
       "    <tr>\n",
       "      <th>min</th>\n",
       "      <td>1.588900e+04</td>\n",
       "      <td>1.000000e+00</td>\n",
       "      <td>1.0</td>\n",
       "      <td>1.000000e+00</td>\n",
       "      <td>0.000000e+00</td>\n",
       "      <td>1.202730e+03</td>\n",
       "      <td>0.000000e+00</td>\n",
       "      <td>0.000000e+00</td>\n",
       "      <td>0.000000e+00</td>\n",
       "      <td>0.000000e+00</td>\n",
       "      <td>...</td>\n",
       "      <td>0.000000e+00</td>\n",
       "      <td>0.000000e+00</td>\n",
       "      <td>0.000000e+00</td>\n",
       "      <td>0.000000e+00</td>\n",
       "      <td>0.000000e+00</td>\n",
       "      <td>0.000000e+00</td>\n",
       "      <td>0.000000e+00</td>\n",
       "      <td>0.000000e+00</td>\n",
       "      <td>0.000000e+00</td>\n",
       "      <td>0.000000e+00</td>\n",
       "    </tr>\n",
       "    <tr>\n",
       "      <th>25%</th>\n",
       "      <td>4.528130e+05</td>\n",
       "      <td>NaN</td>\n",
       "      <td>NaN</td>\n",
       "      <td>NaN</td>\n",
       "      <td>NaN</td>\n",
       "      <td>NaN</td>\n",
       "      <td>0.000000e+00</td>\n",
       "      <td>0.000000e+00</td>\n",
       "      <td>0.000000e+00</td>\n",
       "      <td>0.000000e+00</td>\n",
       "      <td>...</td>\n",
       "      <td>0.000000e+00</td>\n",
       "      <td>0.000000e+00</td>\n",
       "      <td>0.000000e+00</td>\n",
       "      <td>0.000000e+00</td>\n",
       "      <td>0.000000e+00</td>\n",
       "      <td>0.000000e+00</td>\n",
       "      <td>0.000000e+00</td>\n",
       "      <td>NaN</td>\n",
       "      <td>NaN</td>\n",
       "      <td>0.000000e+00</td>\n",
       "    </tr>\n",
       "    <tr>\n",
       "      <th>50%</th>\n",
       "      <td>9.318930e+05</td>\n",
       "      <td>NaN</td>\n",
       "      <td>NaN</td>\n",
       "      <td>NaN</td>\n",
       "      <td>NaN</td>\n",
       "      <td>NaN</td>\n",
       "      <td>0.000000e+00</td>\n",
       "      <td>0.000000e+00</td>\n",
       "      <td>1.000000e+00</td>\n",
       "      <td>0.000000e+00</td>\n",
       "      <td>...</td>\n",
       "      <td>0.000000e+00</td>\n",
       "      <td>0.000000e+00</td>\n",
       "      <td>0.000000e+00</td>\n",
       "      <td>0.000000e+00</td>\n",
       "      <td>0.000000e+00</td>\n",
       "      <td>0.000000e+00</td>\n",
       "      <td>0.000000e+00</td>\n",
       "      <td>NaN</td>\n",
       "      <td>NaN</td>\n",
       "      <td>0.000000e+00</td>\n",
       "    </tr>\n",
       "    <tr>\n",
       "      <th>75%</th>\n",
       "      <td>1.199286e+06</td>\n",
       "      <td>NaN</td>\n",
       "      <td>NaN</td>\n",
       "      <td>NaN</td>\n",
       "      <td>NaN</td>\n",
       "      <td>NaN</td>\n",
       "      <td>0.000000e+00</td>\n",
       "      <td>0.000000e+00</td>\n",
       "      <td>1.000000e+00</td>\n",
       "      <td>0.000000e+00</td>\n",
       "      <td>...</td>\n",
       "      <td>0.000000e+00</td>\n",
       "      <td>0.000000e+00</td>\n",
       "      <td>0.000000e+00</td>\n",
       "      <td>0.000000e+00</td>\n",
       "      <td>0.000000e+00</td>\n",
       "      <td>0.000000e+00</td>\n",
       "      <td>0.000000e+00</td>\n",
       "      <td>NaN</td>\n",
       "      <td>NaN</td>\n",
       "      <td>0.000000e+00</td>\n",
       "    </tr>\n",
       "    <tr>\n",
       "      <th>max</th>\n",
       "      <td>1.553689e+06</td>\n",
       "      <td>9.900000e+01</td>\n",
       "      <td>1.0</td>\n",
       "      <td>5.200000e+01</td>\n",
       "      <td>1.000000e+00</td>\n",
       "      <td>2.889440e+07</td>\n",
       "      <td>1.000000e+00</td>\n",
       "      <td>1.000000e+00</td>\n",
       "      <td>1.000000e+00</td>\n",
       "      <td>1.000000e+00</td>\n",
       "      <td>...</td>\n",
       "      <td>1.000000e+00</td>\n",
       "      <td>1.000000e+00</td>\n",
       "      <td>1.000000e+00</td>\n",
       "      <td>1.000000e+00</td>\n",
       "      <td>1.000000e+00</td>\n",
       "      <td>1.000000e+00</td>\n",
       "      <td>1.000000e+00</td>\n",
       "      <td>1.000000e+00</td>\n",
       "      <td>1.000000e+00</td>\n",
       "      <td>1.000000e+00</td>\n",
       "    </tr>\n",
       "  </tbody>\n",
       "</table>\n",
       "<p>8 rows × 30 columns</p>\n",
       "</div>"
      ],
      "text/plain": [
       "           ncodpers        indrel     tipodom      cod_prov  \\\n",
       "count  1.364731e+07  1.361958e+07  13619574.0  1.355372e+07   \n",
       "mean   8.349042e+05  1.178399e+00         1.0  2.657147e+01   \n",
       "std    4.315650e+05  4.177469e+00         0.0  1.278402e+01   \n",
       "min    1.588900e+04  1.000000e+00         1.0  1.000000e+00   \n",
       "25%    4.528130e+05           NaN         NaN           NaN   \n",
       "50%    9.318930e+05           NaN         NaN           NaN   \n",
       "75%    1.199286e+06           NaN         NaN           NaN   \n",
       "max    1.553689e+06  9.900000e+01         1.0  5.200000e+01   \n",
       "\n",
       "       ind_actividad_cliente         renta  ind_ahor_fin_ult1  \\\n",
       "count           1.361958e+07  1.085293e+07       1.364731e+07   \n",
       "mean            4.578105e-01  1.342543e+05       1.022912e-04   \n",
       "std             4.982169e-01  2.306202e+05       1.011340e-02   \n",
       "min             0.000000e+00  1.202730e+03       0.000000e+00   \n",
       "25%                      NaN           NaN       0.000000e+00   \n",
       "50%                      NaN           NaN       0.000000e+00   \n",
       "75%                      NaN           NaN       0.000000e+00   \n",
       "max             1.000000e+00  2.889440e+07       1.000000e+00   \n",
       "\n",
       "       ind_aval_fin_ult1  ind_cco_fin_ult1  ind_cder_fin_ult1  \\\n",
       "count       1.364731e+07      1.364731e+07       1.364731e+07   \n",
       "mean        2.315475e-05      6.554837e-01       3.939238e-04   \n",
       "std         4.811883e-03      4.752103e-01       1.984361e-02   \n",
       "min         0.000000e+00      0.000000e+00       0.000000e+00   \n",
       "25%         0.000000e+00      0.000000e+00       0.000000e+00   \n",
       "50%         0.000000e+00      1.000000e+00       0.000000e+00   \n",
       "75%         0.000000e+00      1.000000e+00       0.000000e+00   \n",
       "max         1.000000e+00      1.000000e+00       1.000000e+00   \n",
       "\n",
       "            ...         ind_hip_fin_ult1  ind_plan_fin_ult1  \\\n",
       "count       ...             1.364731e+07       1.364731e+07   \n",
       "mean        ...             5.886582e-03       9.170965e-03   \n",
       "std         ...             7.649791e-02       9.532502e-02   \n",
       "min         ...             0.000000e+00       0.000000e+00   \n",
       "25%         ...             0.000000e+00       0.000000e+00   \n",
       "50%         ...             0.000000e+00       0.000000e+00   \n",
       "75%         ...             0.000000e+00       0.000000e+00   \n",
       "max         ...             1.000000e+00       1.000000e+00   \n",
       "\n",
       "       ind_pres_fin_ult1  ind_reca_fin_ult1  ind_tjcr_fin_ult1  \\\n",
       "count       1.364731e+07       1.364731e+07       1.364731e+07   \n",
       "mean        2.627404e-03       5.253636e-02       4.438868e-02   \n",
       "std         5.119083e-02       2.231060e-01       2.059571e-01   \n",
       "min         0.000000e+00       0.000000e+00       0.000000e+00   \n",
       "25%         0.000000e+00       0.000000e+00       0.000000e+00   \n",
       "50%         0.000000e+00       0.000000e+00       0.000000e+00   \n",
       "75%         0.000000e+00       0.000000e+00       0.000000e+00   \n",
       "max         1.000000e+00       1.000000e+00       1.000000e+00   \n",
       "\n",
       "       ind_valo_fin_ult1  ind_viv_fin_ult1  ind_nomina_ult1  \\\n",
       "count       1.364731e+07      1.364731e+07     1.363125e+07   \n",
       "mean        2.560761e-02      3.847718e-03     5.472434e-02   \n",
       "std         1.579616e-01      6.191053e-02     2.274414e-01   \n",
       "min         0.000000e+00      0.000000e+00     0.000000e+00   \n",
       "25%         0.000000e+00      0.000000e+00              NaN   \n",
       "50%         0.000000e+00      0.000000e+00              NaN   \n",
       "75%         0.000000e+00      0.000000e+00              NaN   \n",
       "max         1.000000e+00      1.000000e+00     1.000000e+00   \n",
       "\n",
       "       ind_nom_pens_ult1  ind_recibo_ult1  \n",
       "count       1.363125e+07     1.364731e+07  \n",
       "mean        5.942854e-02     1.279162e-01  \n",
       "std         2.364250e-01     3.339965e-01  \n",
       "min         0.000000e+00     0.000000e+00  \n",
       "25%                  NaN     0.000000e+00  \n",
       "50%                  NaN     0.000000e+00  \n",
       "75%                  NaN     0.000000e+00  \n",
       "max         1.000000e+00     1.000000e+00  \n",
       "\n",
       "[8 rows x 30 columns]"
      ]
     },
     "execution_count": 2,
     "metadata": {},
     "output_type": "execute_result"
    }
   ],
   "source": [
    "df = pd.read_csv(\"train_ver2.csv\",dtype={\"sexo\":str,\"ind_nuevo\":str,\"ult_fec_cli_1t\":str,\"indext\":str})\n",
    "df.describe()"
   ]
  },
  {
   "cell_type": "code",
   "execution_count": 6,
   "metadata": {
    "_cell_guid": "9dfc376a-b836-94b4-03e3-bc3740b97aa8",
    "collapsed": false
   },
   "outputs": [
    {
     "data": {
      "text/plain": [
       "array(['2015-01-28T00:00:00.000000000', '2015-02-28T00:00:00.000000000',\n",
       "       '2015-03-28T00:00:00.000000000', '2015-04-28T00:00:00.000000000',\n",
       "       '2015-05-28T00:00:00.000000000', '2015-06-28T00:00:00.000000000',\n",
       "       '2015-07-28T00:00:00.000000000', '2015-08-28T00:00:00.000000000',\n",
       "       '2015-09-28T00:00:00.000000000', '2015-10-28T00:00:00.000000000',\n",
       "       '2015-11-28T00:00:00.000000000', '2015-12-28T00:00:00.000000000',\n",
       "       '2016-01-28T00:00:00.000000000', '2016-02-28T00:00:00.000000000',\n",
       "       '2016-03-28T00:00:00.000000000', '2016-04-28T00:00:00.000000000',\n",
       "       '2016-05-28T00:00:00.000000000'], dtype='datetime64[ns]')"
      ]
     },
     "execution_count": 6,
     "metadata": {},
     "output_type": "execute_result"
    }
   ],
   "source": [
    "df[\"fecha_dato\"] = pd.to_datetime(df[\"fecha_dato\"],format=\"%Y-%m-%d\")\n",
    "df[\"fecha_alta\"] = pd.to_datetime(df[\"fecha_alta\"],format=\"%Y-%m-%d\")\n",
    "df[\"fecha_dato\"].unique()"
   ]
  },
  {
   "cell_type": "code",
   "execution_count": 7,
   "metadata": {
    "_cell_guid": "b5e8429d-a0f3-b5a5-81d6-7e524b0a660c",
    "collapsed": true
   },
   "outputs": [],
   "source": [
    "df[\"month\"] = pd.DatetimeIndex(df[\"fecha_dato\"]).month\n",
    "df[\"age\"]   = pd.to_numeric(df[\"age\"], errors=\"coerce\")"
   ]
  },
  {
   "cell_type": "code",
   "execution_count": 8,
   "metadata": {
    "collapsed": false
   },
   "outputs": [
    {
     "data": {
      "image/png": "[encoded data removed]",
      "text/plain": [
       "<matplotlib.figure.Figure at 0x11b99b3c8>"
      ]
     },
     "metadata": {},
     "output_type": "display_data"
    }
   ],
   "source": [
    "with sns.plotting_context(\"notebook\",font_scale=1.5):\n",
    "    sns.set_style(\"whitegrid\")\n",
    "    sns.distplot(df[\"age\"].dropna(),\n",
    "                 bins=80,\n",
    "                 kde=False,\n",
    "                 color=\"tomato\")\n",
    "    sns.plt.title(\"Age Distribution\")\n",
    "    plt.ylabel(\"Count\")"
   ]
  },
  {
   "cell_type": "code",
   "execution_count": 9,
   "metadata": {
    "_cell_guid": "73e3143f-d51b-bd0a-a8cc-64178de70e4e",
    "collapsed": true
   },
   "outputs": [],
   "source": [
    "df.loc[df.age < 18,\"age\"]  = df.loc[(df.age >= 18) & (df.age <= 30),\"age\"].mean(skipna=True)\n",
    "df.loc[df.age > 100,\"age\"] = df.loc[(df.age >= 30) & (df.age <= 100),\"age\"].mean(skipna=True)\n",
    "df[\"age\"].fillna(df[\"age\"].mean(),inplace=True)\n",
    "df[\"age\"] = df[\"age\"].astype(int)"
   ]
  },
  {
   "cell_type": "code",
   "execution_count": 10,
   "metadata": {
    "collapsed": false
   },
   "outputs": [
    {
     "data": {
      "image/png": "[encoded data removed]",
      "text/plain": [
       "<matplotlib.figure.Figure at 0x11ba38ef0>"
      ]
     },
     "metadata": {},
     "output_type": "display_data"
    }
   ],
   "source": [
    "with sns.plotting_context(\"notebook\",font_scale=1.5):\n",
    "    sns.set_style(\"whitegrid\")\n",
    "    sns.distplot(df[\"age\"].dropna(),\n",
    "                 bins=80,\n",
    "                 kde=False,\n",
    "                 color=\"tomato\")\n",
    "    sns.plt.title(\"Age Distribution\")\n",
    "    plt.ylabel(\"Count\")\n",
    "    plt.xlim((15,100))"
   ]
  },
  {
   "cell_type": "code",
   "execution_count": 11,
   "metadata": {
    "_cell_guid": "72710055-5dec-fafc-c712-27475eeb965b",
    "collapsed": false
   },
   "outputs": [
    {
     "data": {
      "text/plain": [
       "27734"
      ]
     },
     "execution_count": 11,
     "metadata": {},
     "output_type": "execute_result"
    }
   ],
   "source": [
    "df[\"ind_nuevo\"].isnull().sum()"
   ]
  },
  {
   "cell_type": "code",
   "execution_count": 12,
   "metadata": {
    "_cell_guid": "e72879e7-8853-57da-5211-0bc07dc9baed",
    "collapsed": false
   },
   "outputs": [
    {
     "data": {
      "text/plain": [
       "6"
      ]
     },
     "execution_count": 12,
     "metadata": {},
     "output_type": "execute_result"
    }
   ],
   "source": [
    "months_active = df.loc[df[\"ind_nuevo\"].isnull(),:].groupby(\"ncodpers\", sort=False).size()\n",
    "months_active.max()"
   ]
  },
  {
   "cell_type": "code",
   "execution_count": 13,
   "metadata": {
    "_cell_guid": "672d6595-2ddc-3a34-48d8-c6f98fe3e0ef",
    "collapsed": true
   },
   "outputs": [],
   "source": [
    "df.loc[df[\"ind_nuevo\"].isnull(),\"ind_nuevo\"] = 1"
   ]
  },
  {
   "cell_type": "code",
   "execution_count": 14,
   "metadata": {
    "_cell_guid": "f5597d19-ba99-e4d6-36f7-8463b8199ff6",
    "collapsed": false
   },
   "outputs": [
    {
     "data": {
      "text/plain": [
       "27734"
      ]
     },
     "execution_count": 14,
     "metadata": {},
     "output_type": "execute_result"
    }
   ],
   "source": [
    "df.antiguedad = pd.to_numeric(df.antiguedad,errors=\"coerce\")\n",
    "np.sum(df[\"antiguedad\"].isnull())"
   ]
  },
  {
   "cell_type": "code",
   "execution_count": 15,
   "metadata": {
    "_cell_guid": "88314fe6-4eff-7d0b-8d43-e2c1ae315965",
    "collapsed": false
   },
   "outputs": [
    {
     "data": {
      "text/plain": [
       "count     27734\n",
       "unique        1\n",
       "top           1\n",
       "freq      27734\n",
       "Name: ind_nuevo, dtype: int64"
      ]
     },
     "execution_count": 15,
     "metadata": {},
     "output_type": "execute_result"
    }
   ],
   "source": [
    "df.loc[df[\"antiguedad\"].isnull(),\"ind_nuevo\"].describe()"
   ]
  },
  {
   "cell_type": "code",
   "execution_count": 16,
   "metadata": {
    "_cell_guid": "561ac875-a3c8-e843-caf7-aeafbc977185",
    "collapsed": true
   },
   "outputs": [],
   "source": [
    "df.loc[df.antiguedad.isnull(),\"antiguedad\"] = df.antiguedad.min()\n",
    "df.loc[df.antiguedad <0, \"antiguedad\"]      = 0"
   ]
  },
  {
   "cell_type": "code",
   "execution_count": 17,
   "metadata": {
    "_cell_guid": "55f39399-dbb7-3b13-5393-f6ad89d4fe24",
    "collapsed": false
   },
   "outputs": [
    {
     "data": {
      "text/plain": [
       "count                13647309\n",
       "unique                   6756\n",
       "top       2014-07-28 00:00:00\n",
       "freq                    57389\n",
       "first     1995-01-16 00:00:00\n",
       "last      2016-05-31 00:00:00\n",
       "Name: fecha_alta, dtype: object"
      ]
     },
     "execution_count": 17,
     "metadata": {},
     "output_type": "execute_result"
    }
   ],
   "source": [
    "dates=df.loc[:,\"fecha_alta\"].sort_values().reset_index()\n",
    "median_date = int(np.median(dates.index.values))\n",
    "df.loc[df.fecha_alta.isnull(),\"fecha_alta\"] = dates.loc[median_date,\"fecha_alta\"]\n",
    "df[\"fecha_alta\"].describe()"
   ]
  },
  {
   "cell_type": "code",
   "execution_count": 18,
   "metadata": {
    "_cell_guid": "9286511c-1f0d-5c7a-e762-6bad69180144",
    "collapsed": false
   },
   "outputs": [
    {
     "data": {
      "text/plain": [
       "1.0     13594782\n",
       "99.0       24793\n",
       "dtype: int64"
      ]
     },
     "execution_count": 18,
     "metadata": {},
     "output_type": "execute_result"
    }
   ],
   "source": [
    "pd.Series([i for i in df.indrel]).value_counts()"
   ]
  },
  {
   "cell_type": "code",
   "execution_count": 19,
   "metadata": {
    "_cell_guid": "4bd3465b-5eae-2743-5929-f5779909df2d",
    "collapsed": true
   },
   "outputs": [],
   "source": [
    "df.loc[df.indrel.isnull(),\"indrel\"] = 1"
   ]
  },
  {
   "cell_type": "code",
   "execution_count": 20,
   "metadata": {
    "_cell_guid": "bfbcd9e1-6e22-d742-9daf-d05a471f056a",
    "collapsed": false
   },
   "outputs": [],
   "source": [
    "df.drop([\"tipodom\",\"cod_prov\",\"ult_fec_cli_1t\"],axis=1,inplace=True)"
   ]
  },
  {
   "cell_type": "code",
   "execution_count": 21,
   "metadata": {
    "_cell_guid": "96fc171a-6e3f-f6f9-93d0-c9f9e707d60b",
    "collapsed": false
   },
   "outputs": [
    {
     "data": {
      "text/plain": [
       "fecha_dato               False\n",
       "ncodpers                 False\n",
       "ind_empleado              True\n",
       "pais_residencia           True\n",
       "sexo                      True\n",
       "age                      False\n",
       "fecha_alta               False\n",
       "ind_nuevo                False\n",
       "antiguedad               False\n",
       "indrel                   False\n",
       "indrel_1mes               True\n",
       "tiprel_1mes               True\n",
       "indresi                   True\n",
       "indext                    True\n",
       "conyuemp                  True\n",
       "canal_entrada             True\n",
       "indfall                   True\n",
       "nomprov                   True\n",
       "ind_actividad_cliente     True\n",
       "renta                     True\n",
       "segmento                  True\n",
       "ind_ahor_fin_ult1        False\n",
       "ind_aval_fin_ult1        False\n",
       "ind_cco_fin_ult1         False\n",
       "ind_cder_fin_ult1        False\n",
       "ind_cno_fin_ult1         False\n",
       "ind_ctju_fin_ult1        False\n",
       "ind_ctma_fin_ult1        False\n",
       "ind_ctop_fin_ult1        False\n",
       "ind_ctpp_fin_ult1        False\n",
       "ind_deco_fin_ult1        False\n",
       "ind_deme_fin_ult1        False\n",
       "ind_dela_fin_ult1        False\n",
       "ind_ecue_fin_ult1        False\n",
       "ind_fond_fin_ult1        False\n",
       "ind_hip_fin_ult1         False\n",
       "ind_plan_fin_ult1        False\n",
       "ind_pres_fin_ult1        False\n",
       "ind_reca_fin_ult1        False\n",
       "ind_tjcr_fin_ult1        False\n",
       "ind_valo_fin_ult1        False\n",
       "ind_viv_fin_ult1         False\n",
       "ind_nomina_ult1           True\n",
       "ind_nom_pens_ult1         True\n",
       "ind_recibo_ult1          False\n",
       "month                    False\n",
       "dtype: bool"
      ]
     },
     "execution_count": 21,
     "metadata": {},
     "output_type": "execute_result"
    }
   ],
   "source": [
    "df.isnull().any()"
   ]
  },
  {
   "cell_type": "code",
   "execution_count": 22,
   "metadata": {
    "_cell_guid": "cc0707d4-cea8-174f-16b7-f8fd3f8b67b5",
    "collapsed": false
   },
   "outputs": [
    {
     "data": {
      "text/plain": [
       "27734"
      ]
     },
     "execution_count": 22,
     "metadata": {},
     "output_type": "execute_result"
    }
   ],
   "source": [
    "np.sum(df[\"ind_actividad_cliente\"].isnull())"
   ]
  },
  {
   "cell_type": "code",
   "execution_count": 23,
   "metadata": {
    "_cell_guid": "afa661ef-5c01-ef33-3ac0-a7b35ecf2e27",
    "collapsed": true
   },
   "outputs": [],
   "source": [
    "df.loc[df.ind_actividad_cliente.isnull(),\"ind_actividad_cliente\"] = \\\n",
    "df[\"ind_actividad_cliente\"].median()"
   ]
  },
  {
   "cell_type": "code",
   "execution_count": 24,
   "metadata": {
    "_cell_guid": "b0400709-8b1d-1440-b940-d27ab17c528b",
    "collapsed": false
   },
   "outputs": [
    {
     "data": {
      "text/plain": [
       "array(['MALAGA', 'CIUDAD REAL', 'ZARAGOZA', 'TOLEDO', 'LEON', 'GIPUZKOA',\n",
       "       'CACERES', 'GIRONA', 'ZAMORA', 'BARCELONA', 'SALAMANCA', 'BURGOS',\n",
       "       'HUESCA', 'NAVARRA', 'AVILA', 'SEGOVIA', 'LUGO', 'LERIDA', 'MADRID',\n",
       "       'ALICANTE', 'SORIA', 'SEVILLA', 'CANTABRIA', 'BALEARS, ILLES',\n",
       "       'VALLADOLID', 'PONTEVEDRA', 'VALENCIA', 'TERUEL', 'CORUÑA, A',\n",
       "       'OURENSE', 'JAEN', 'CUENCA', 'BIZKAIA', 'CASTELLON', 'RIOJA, LA',\n",
       "       'ALBACETE', 'BADAJOZ', 'MURCIA', 'CADIZ', nan, 'ALMERIA',\n",
       "       'GUADALAJARA', 'PALENCIA', 'PALMAS, LAS', 'CORDOBA', 'HUELVA',\n",
       "       'GRANADA', 'ASTURIAS', 'SANTA CRUZ DE TENERIFE', 'MELILLA',\n",
       "       'TARRAGONA', 'ALAVA', 'CEUTA'], dtype=object)"
      ]
     },
     "execution_count": 24,
     "metadata": {},
     "output_type": "execute_result"
    }
   ],
   "source": [
    "df.nomprov.unique()"
   ]
  },
  {
   "cell_type": "code",
   "execution_count": 25,
   "metadata": {
    "_cell_guid": "0dbadbd2-76be-0789-f745-803f93585318",
    "collapsed": true
   },
   "outputs": [],
   "source": [
    "df.loc[df.nomprov==\"CORU\\xc3\\x91A, A\",\"nomprov\"] = \"CORUNA, A\""
   ]
  },
  {
   "cell_type": "code",
   "execution_count": 26,
   "metadata": {
    "_cell_guid": "f2b0b646-b74a-8f51-d754-40e4c58c9578",
    "collapsed": true
   },
   "outputs": [],
   "source": [
    "df.loc[df.nomprov.isnull(),\"nomprov\"] = \"UNKNOWN\""
   ]
  },
  {
   "cell_type": "code",
   "execution_count": 27,
   "metadata": {
    "_cell_guid": "9830d62e-2fd0-ae57-a616-2a58ef7c93e7",
    "collapsed": false
   },
   "outputs": [
    {
     "data": {
      "text/plain": [
       "2794375"
      ]
     },
     "execution_count": 27,
     "metadata": {},
     "output_type": "execute_result"
    }
   ],
   "source": [
    "df.renta.isnull().sum()"
   ]
  },
  {
   "cell_type": "code",
   "execution_count": null,
   "metadata": {
    "collapsed": true
   },
   "outputs": [],
   "source": []
  },
  {
   "cell_type": "code",
   "execution_count": null,
   "metadata": {
    "collapsed": true
   },
   "outputs": [],
   "source": []
  },
  {
   "cell_type": "code",
   "execution_count": null,
   "metadata": {
    "collapsed": false
   },
   "outputs": [],
   "source": [
    "df['ind_actividad_cliente'].value_counts()"
   ]
  },
  {
   "cell_type": "code",
   "execution_count": null,
   "metadata": {
    "collapsed": false
   },
   "outputs": [],
   "source": [
    "df_features['ind_actividad_cliente'].count()"
   ]
  },
  {
   "cell_type": "code",
   "execution_count": 28,
   "metadata": {
    "collapsed": false
   },
   "outputs": [
    {
     "data": {
      "text/plain": [
       "ncodpers                -0.084213\n",
       "ind_cco_fin_ult1        -0.025453\n",
       "ind_pres_fin_ult1       -0.005068\n",
       "month                   -0.000162\n",
       "ind_deco_fin_ult1       -0.000019\n",
       "indrel                   0.000022\n",
       "ind_aval_fin_ult1        0.001673\n",
       "ind_cder_fin_ult1        0.001884\n",
       "ind_deme_fin_ult1        0.001996\n",
       "ind_ctma_fin_ult1        0.002254\n",
       "ind_ahor_fin_ult1        0.002455\n",
       "ind_hip_fin_ult1         0.003926\n",
       "ind_ctju_fin_ult1        0.009132\n",
       "ind_viv_fin_ult1         0.010239\n",
       "ind_nomina_ult1          0.012820\n",
       "ind_nom_pens_ult1        0.015076\n",
       "ind_cno_fin_ult1         0.015736\n",
       "ind_recibo_ult1          0.019045\n",
       "ind_dela_fin_ult1        0.019241\n",
       "ind_plan_fin_ult1        0.020746\n",
       "ind_ctpp_fin_ult1        0.023218\n",
       "ind_ecue_fin_ult1        0.024410\n",
       "ind_fond_fin_ult1        0.024445\n",
       "ind_actividad_cliente    0.027281\n",
       "ind_tjcr_fin_ult1        0.027501\n",
       "ind_valo_fin_ult1        0.029789\n",
       "ind_reca_fin_ult1        0.036973\n",
       "ind_ctop_fin_ult1        0.040633\n",
       "age                      0.068264\n",
       "antiguedad               0.082105\n",
       "renta                    1.000000\n",
       "Name: renta, dtype: float64"
      ]
     },
     "execution_count": 28,
     "metadata": {},
     "output_type": "execute_result"
    }
   ],
   "source": [
    "df.corr()['renta'].sort_values()"
   ]
  },
  {
   "cell_type": "markdown",
   "metadata": {},
   "source": [
    " 'ind_actividad_cliente' seems a reasonable and relevant fetaure to group by to get the median for 'renta':"
   ]
  },
  {
   "cell_type": "code",
   "execution_count": 30,
   "metadata": {
    "collapsed": false
   },
   "outputs": [
    {
     "data": {
      "text/plain": [
       "0.0    7412124\n",
       "1.0    6235185\n",
       "Name: ind_actividad_cliente, dtype: int64"
      ]
     },
     "execution_count": 30,
     "metadata": {},
     "output_type": "execute_result"
    }
   ],
   "source": [
    "df['ind_actividad_cliente'].value_counts()"
   ]
  },
  {
   "cell_type": "code",
   "execution_count": 43,
   "metadata": {
    "collapsed": true
   },
   "outputs": [],
   "source": [
    "active = df.loc[df.ind_actividad_cliente==1.0]"
   ]
  },
  {
   "cell_type": "code",
   "execution_count": 46,
   "metadata": {
    "collapsed": false
   },
   "outputs": [],
   "source": [
    "inactive = df.loc[df.ind_actividad_cliente==0.0]"
   ]
  },
  {
   "cell_type": "code",
   "execution_count": null,
   "metadata": {
    "collapsed": true
   },
   "outputs": [],
   "source": []
  },
  {
   "cell_type": "code",
   "execution_count": 32,
   "metadata": {
    "_cell_guid": "587bca44-b0ba-37a9-9b99-b715c690688d",
    "collapsed": false
   },
   "outputs": [
    {
     "data": {
      "text/html": [
       "<div>\n",
       "<table border=\"1\" class=\"dataframe\">\n",
       "  <thead>\n",
       "    <tr>\n",
       "      <th></th>\n",
       "      <th>nomprov</th>\n",
       "      <th>renta</th>\n",
       "    </tr>\n",
       "    <tr>\n",
       "      <th></th>\n",
       "      <th></th>\n",
       "      <th>MedianIncome</th>\n",
       "    </tr>\n",
       "  </thead>\n",
       "  <tbody>\n",
       "    <tr>\n",
       "      <th>0</th>\n",
       "      <td>CIUDAD REAL</td>\n",
       "      <td>62193.45</td>\n",
       "    </tr>\n",
       "    <tr>\n",
       "      <th>1</th>\n",
       "      <td>BADAJOZ</td>\n",
       "      <td>62330.97</td>\n",
       "    </tr>\n",
       "    <tr>\n",
       "      <th>2</th>\n",
       "      <td>LUGO</td>\n",
       "      <td>64390.53</td>\n",
       "    </tr>\n",
       "    <tr>\n",
       "      <th>3</th>\n",
       "      <td>LERIDA</td>\n",
       "      <td>64818.45</td>\n",
       "    </tr>\n",
       "    <tr>\n",
       "      <th>4</th>\n",
       "      <td>CASTELLON</td>\n",
       "      <td>66630.30</td>\n",
       "    </tr>\n",
       "  </tbody>\n",
       "</table>\n",
       "</div>"
      ],
      "text/plain": [
       "       nomprov        renta\n",
       "               MedianIncome\n",
       "0  CIUDAD REAL     62193.45\n",
       "1      BADAJOZ     62330.97\n",
       "2         LUGO     64390.53\n",
       "3       LERIDA     64818.45\n",
       "4    CASTELLON     66630.30"
      ]
     },
     "execution_count": 32,
     "metadata": {},
     "output_type": "execute_result"
    }
   ],
   "source": [
    "#df.loc[df.renta.notnull(),:].groupby(\"nomprov\").agg([{\"Sum\":sum},{\"Mean\":mean}])\n",
    "incomes = df.loc[df.renta.notnull(),:].groupby(\"nomprov\").agg({\"renta\":{\"MedianIncome\":median}})\n",
    "incomes.sort_values(by=(\"renta\",\"MedianIncome\"),inplace=True)\n",
    "incomes.reset_index(inplace=True)\n",
    "incomes.nomprov = incomes.nomprov.astype(\"category\", categories=[i for i in df.nomprov.unique()],ordered=False)\n",
    "incomes.head()"
   ]
  },
  {
   "cell_type": "code",
   "execution_count": 38,
   "metadata": {
    "_cell_guid": "fd49def1-8da1-2d6f-15b8-73eb2c44a237",
    "collapsed": false
   },
   "outputs": [
    {
     "data": {
      "text/plain": [
       "([<matplotlib.axis.YTick at 0x127e05e10>,\n",
       "  <matplotlib.axis.YTick at 0x125988198>,\n",
       "  <matplotlib.axis.YTick at 0x11bd417f0>,\n",
       "  <matplotlib.axis.YTick at 0x1182b4a58>,\n",
       "  <matplotlib.axis.YTick at 0x11bd279b0>],\n",
       " <a list of 5 Text yticklabel objects>)"
      ]
     },
     "execution_count": 38,
     "metadata": {},
     "output_type": "execute_result"
    },
    {
     "data": {
      "image/png": "[encoded data removed]",
      "text/plain": [
       "<matplotlib.figure.Figure at 0x126bc6f28>"
      ]
     },
     "metadata": {},
     "output_type": "display_data"
    }
   ],
   "source": [
    "with sns.axes_style({\n",
    "        \"axes.grid\"     :    False}):\n",
    "    h = sns.factorplot(data=incomes,\n",
    "                   x=\"nomprov\",\n",
    "                   y=(\"renta\",\"MedianIncome\"),\n",
    "                   order=(i for i in incomes.nomprov),\n",
    "                   size=6,\n",
    "                   aspect=1.5,\n",
    "                   scale=1.0,\n",
    "                   linestyles=\"None\")\n",
    "plt.xticks(rotation=90)\n",
    "plt.tick_params(labelsize=16)\n",
    "plt.ylabel(\"Median Income\",size=32)\n",
    "plt.xlabel(\"City\",size=32)\n",
    "plt.title(\"Income Distribution by City\",size=40)\n",
    "plt.ylim(0,180000)\n",
    "plt.yticks(range(0,180000,40000))"
   ]
  },
  {
   "cell_type": "code",
   "execution_count": 49,
   "metadata": {
    "_cell_guid": "6fbf3979-141d-b716-3ba7-830d4b845172",
    "collapsed": false,
    "scrolled": true
   },
   "outputs": [
    {
     "name": "stderr",
     "output_type": "stream",
     "text": [
      "/Users/Lynn/anaconda/lib/python3.5/site-packages/ipykernel/__main__.py:4: SettingWithCopyWarning: \n",
      "A value is trying to be set on a copy of a slice from a DataFrame\n",
      "\n",
      "See the caveats in the documentation: http://pandas.pydata.org/pandas-docs/stable/indexing.html#indexing-view-versus-copy\n"
     ]
    }
   ],
   "source": [
    "grouped1        = active.groupby(\"nomprov\").agg({\"renta\":lambda x: x.median(skipna=True)}).reset_index()\n",
    "new_incomes1    = pd.merge(active,grouped1,how=\"inner\",on=\"nomprov\").loc[:, [\"nomprov\",\"renta_y1\"]]\n",
    "new_incomes1    = new_incomes1.rename(columns={\"renta_y1\":\"renta\"}).sort_values(\"renta\").sort_values(\"nomprov\")\n",
    "active.sort_values(\"nomprov\",inplace=True)\n",
    "active = active.reset_index()\n",
    "new_incomes1 = new_incomes1.reset_index()"
   ]
  },
  {
   "cell_type": "code",
   "execution_count": 50,
   "metadata": {
    "collapsed": false
   },
   "outputs": [
    {
     "name": "stderr",
     "output_type": "stream",
     "text": [
      "/Users/Lynn/anaconda/lib/python3.5/site-packages/ipykernel/__main__.py:4: SettingWithCopyWarning: \n",
      "A value is trying to be set on a copy of a slice from a DataFrame\n",
      "\n",
      "See the caveats in the documentation: http://pandas.pydata.org/pandas-docs/stable/indexing.html#indexing-view-versus-copy\n"
     ]
    }
   ],
   "source": [
    "grouped0        = inactive.groupby(\"nomprov\").agg({\"renta\":lambda x: x.median(skipna=True)}).reset_index()\n",
    "new_incomes0    = pd.merge(inactive,grouped0,how=\"inner\",on=\"nomprov\").loc[:, [\"nomprov\",\"renta_y0\"]]\n",
    "new_incomes0    = new_incomes0.rename(columns={\"renta_y0\":\"renta\"}).sort_values(\"renta\").sort_values(\"nomprov\")\n",
    "inactive.sort_values(\"nomprov\",inplace=True)\n",
    "inactive = inactive.reset_index()\n",
    "new_incomes0    = new_incomes0.reset_index()"
   ]
  },
  {
   "cell_type": "code",
   "execution_count": 51,
   "metadata": {
    "_cell_guid": "62958334-bca1-73e0-871e-20f70bed4867",
    "collapsed": true
   },
   "outputs": [],
   "source": [
    "active.loc[active.renta.isnull(),\"renta\"] = new_incomes1.loc[active.renta.isnull(),\"renta\"].reset_index()\n",
    "active.loc[active.renta.isnull(),\"renta\"] = active.loc[active.renta.notnull(),\"renta\"].median()\n",
    "active.sort_values(by=\"fecha_dato\",inplace=True)"
   ]
  },
  {
   "cell_type": "code",
   "execution_count": 52,
   "metadata": {
    "collapsed": true
   },
   "outputs": [],
   "source": [
    "inactive.loc[inactive.renta.isnull(),\"renta\"] = new_incomes0.loc[inactive.renta.isnull(),\"renta\"].reset_index()\n",
    "inactive.loc[inactive.renta.isnull(),\"renta\"] = inactive.loc[inactive.renta.notnull(),\"renta\"].median()\n",
    "inactive.sort_values(by=\"fecha_dato\",inplace=True)"
   ]
  },
  {
   "cell_type": "code",
   "execution_count": 55,
   "metadata": {
    "collapsed": false
   },
   "outputs": [],
   "source": [
    "df = pd.concat([active, inactive], axis=0)"
   ]
  },
  {
   "cell_type": "code",
   "execution_count": null,
   "metadata": {
    "collapsed": true
   },
   "outputs": [],
   "source": []
  },
  {
   "cell_type": "code",
   "execution_count": 57,
   "metadata": {
    "_cell_guid": "4f280171-c0f3-c98e-bb35-ef903a9d9564",
    "collapsed": false
   },
   "outputs": [
    {
     "data": {
      "text/plain": [
       "16063"
      ]
     },
     "execution_count": 57,
     "metadata": {},
     "output_type": "execute_result"
    }
   ],
   "source": [
    "df.ind_nomina_ult1.isnull().sum()"
   ]
  },
  {
   "cell_type": "code",
   "execution_count": 58,
   "metadata": {
    "_cell_guid": "2ab8cd9b-5ec4-4c99-4f84-c394b39790d8",
    "collapsed": true
   },
   "outputs": [],
   "source": [
    "df.loc[df.ind_nomina_ult1.isnull(), \"ind_nomina_ult1\"] = 0\n",
    "df.loc[df.ind_nom_pens_ult1.isnull(), \"ind_nom_pens_ult1\"] = 0"
   ]
  },
  {
   "cell_type": "code",
   "execution_count": 59,
   "metadata": {
    "_cell_guid": "299fe28e-8844-ed3d-d558-30986db1ee60",
    "collapsed": false
   },
   "outputs": [
    {
     "name": "stdout",
     "output_type": "stream",
     "text": [
      "Unique values for ind_empleado:\n",
      "['N' 'F' 'A' 'B' 'S' nan]\n",
      "\n",
      "Unique values for pais_residencia:\n",
      "['ES' 'IT' 'PY' 'DE' 'BE' 'VE' 'BO' 'GB' 'AR' 'IL' 'MA' 'FR' 'PT' 'JP' 'BR'\n",
      " 'CO' 'EG' 'SE' 'ML' 'US' 'AT' 'TR' 'CA' 'PK' 'MX' 'CH' 'UA' 'CN' 'DK' 'AU'\n",
      " 'HN' 'PL' 'RO' 'TH' 'DO' 'UY' 'PE' 'BG' 'EC' 'HU' 'GQ' 'BY' 'ET' 'CL' 'HK'\n",
      " 'GN' 'RU' 'SN' 'NG' 'KW' 'CG' 'AD' 'PA' 'PR' 'NO' 'GA' 'CR' 'CU' 'AE' 'ZA'\n",
      " 'IE' 'AO' 'NL' 'KH' 'LT' 'LU' 'FI' 'OM' 'SA' 'SG' 'IN' 'NI' 'GR' 'GI' 'MD'\n",
      " 'GW' 'MK' 'HR' 'SL' 'SK' 'CM' 'MM' 'TW' 'VN' 'MR' 'KE' 'KR' 'BA' 'PH' 'EE'\n",
      " 'LY' 'DZ' 'QA' 'CD' 'CI' 'GT' 'BZ' 'LV' 'NZ' 'TG' 'MZ' 'SV' 'CZ' 'BM' 'MT'\n",
      " nan 'RS' 'AL' 'TN' 'GE' 'GH' 'CF' 'GM' 'KZ' 'IS' 'LB' 'JM' 'ZW' 'DJ']\n",
      "\n",
      "Unique values for sexo:\n",
      "['H' 'V' nan]\n",
      "\n",
      "Unique values for indrel_1mes:\n",
      "[1.0 3.0 '1.0' '1' nan '3.0' '4.0' 'P' '2' 2.0 '3' '2.0' '4' 4.0]\n",
      "\n",
      "Unique values for tiprel_1mes:\n",
      "['A' 'I' 'P' nan 'R' 'N']\n",
      "\n",
      "Unique values for indresi:\n",
      "['S' 'N' nan]\n",
      "\n",
      "Unique values for indext:\n",
      "['N' 'S' nan]\n",
      "\n",
      "Unique values for conyuemp:\n",
      "[nan 'N' 'S']\n",
      "\n",
      "Unique values for canal_entrada:\n",
      "['KAT' 'KFA' 'KFC' 'KHE' 'KHD' 'RED' 'KAR' 'KFD' 'KAZ' 'KAW' 'KFF' 'KCC'\n",
      " 'KGX' 'KAQ' 'KAG' 'KAA' 'KHC' 'KHK' '013' 'KAO' 'KFS' 'KAE' 'KAY' 'KAH'\n",
      " 'KHL' 'KDQ' 'KAS' '007' 'KDU' 'KGV' 'KDR' 'KEY' 'KBG' 'KBZ' 'KAJ' 'KFI'\n",
      " 'KAF' 'KHO' 'KFT' 'KHA' 'KDM' 'KES' 'KDE' 'KFK' 'KFJ' nan 'KDV' 'KBO'\n",
      " 'KDT' 'KCI' 'KCH' 'KHF' 'KBH' 'KAI' 'KAD' 'KBF' 'KDO' 'KAB' 'KCB' 'KHN'\n",
      " 'KFG' 'KDP' 'KBR' 'KFP' 'KCG' 'KEB' 'KEA' 'KCF' '004' 'KEH' 'KDA' 'KEC'\n",
      " 'KAC' 'KBU' 'KED' 'KAP' 'KCD' 'KCE' 'KBD' 'KBQ' 'KBX' 'KBS' 'KDD' 'KHM'\n",
      " 'KCA' 'KEZ' 'KEW' 'KBL' 'KEO' 'KDX' 'KCM' 'KCL' 'KCN' 'KFH' 'KBW' 'KBV'\n",
      " 'KBY' 'KDC' 'KAM' 'KCO' 'KBE' 'KBP' 'KEL' 'KEV' 'KBM' 'KEU' 'KFN' 'KFL'\n",
      " 'KGY' 'KBB' 'KBJ' 'KDW' 'KEJ' 'KDS' 'KEI' 'KEN' 'KAK' 'KCK' 'KCU' 'KCJ'\n",
      " 'K00' 'KAL' 'KAV' 'KAU' 'KDY' 'KDZ' 'KAN' 'KFB' 'KFM' 'KDF' 'KEG' 'KDN'\n",
      " 'KGW' 'KFU' 'KEE' 'KEQ' 'KFR' 'KGN' 'KCS' 'KEM' 'KEK' 'KEF' 'KCP' 'KDG'\n",
      " 'KFE' 'KCV' 'KDH' 'KCX' 'KCQ' 'KCR' 'KFV' 'KHQ' 'KHP' 'KCT' 'KDB' 'KGC'\n",
      " 'KDI' 'KGU' 'KBN' '025' 'KDL' 'KHR' 'KHS']\n",
      "\n",
      "Unique values for indfall:\n",
      "['N' 'S' nan]\n",
      "\n",
      "Unique values for segmento:\n",
      "['02 - PARTICULARES' '03 - UNIVERSITARIO' '01 - TOP' nan]\n",
      "\n"
     ]
    }
   ],
   "source": [
    "string_data = df.select_dtypes(include=[\"object\"])\n",
    "missing_columns = [col for col in string_data if string_data[col].isnull().any()]\n",
    "for col in missing_columns:\n",
    "    print(\"Unique values for {0}:\\n{1}\\n\".format(col,string_data[col].unique()))\n",
    "del string_data"
   ]
  },
  {
   "cell_type": "code",
   "execution_count": 60,
   "metadata": {
    "_cell_guid": "c52777c3-06be-bf9f-0e33-3ae7e1b47d37",
    "collapsed": true
   },
   "outputs": [],
   "source": [
    "df.loc[df.indfall.isnull(),\"indfall\"] = \"N\"\n",
    "df.loc[df.tiprel_1mes.isnull(),\"tiprel_1mes\"] = \"A\"\n",
    "df.tiprel_1mes = df.tiprel_1mes.astype(\"category\")\n",
    "\n",
    "# As suggested by @StephenSmith\n",
    "map_dict = { 1.0  : \"1\",\n",
    "            \"1.0\" : \"1\",\n",
    "            \"1\"   : \"1\",\n",
    "            \"3.0\" : \"3\",\n",
    "            \"P\"   : \"P\",\n",
    "            3.0   : \"3\",\n",
    "            2.0   : \"2\",\n",
    "            \"3\"   : \"3\",\n",
    "            \"2.0\" : \"2\",\n",
    "            \"4.0\" : \"4\",\n",
    "            \"4\"   : \"4\",\n",
    "            \"2\"   : \"2\"}\n",
    "\n",
    "df.indrel_1mes.fillna(\"P\",inplace=True)\n",
    "df.indrel_1mes = df.indrel_1mes.apply(lambda x: map_dict.get(x,x))\n",
    "df.indrel_1mes = df.indrel_1mes.astype(\"category\")\n",
    "\n",
    "\n",
    "unknown_cols = [col for col in missing_columns if col not in [\"indfall\",\"tiprel_1mes\",\"indrel_1mes\"]]\n",
    "for col in unknown_cols:\n",
    "    df.loc[df[col].isnull(),col] = \"UNKNOWN\""
   ]
  },
  {
   "cell_type": "code",
   "execution_count": 61,
   "metadata": {
    "_cell_guid": "28ee02b3-7e9c-0a66-3541-211ccd9dc34f",
    "collapsed": false
   },
   "outputs": [
    {
     "data": {
      "text/plain": [
       "index                    False\n",
       "fecha_dato               False\n",
       "ncodpers                 False\n",
       "ind_empleado             False\n",
       "pais_residencia          False\n",
       "sexo                     False\n",
       "age                      False\n",
       "fecha_alta               False\n",
       "ind_nuevo                False\n",
       "antiguedad               False\n",
       "indrel                   False\n",
       "indrel_1mes              False\n",
       "tiprel_1mes              False\n",
       "indresi                  False\n",
       "indext                   False\n",
       "conyuemp                 False\n",
       "canal_entrada            False\n",
       "indfall                  False\n",
       "nomprov                  False\n",
       "ind_actividad_cliente    False\n",
       "renta                    False\n",
       "segmento                 False\n",
       "ind_ahor_fin_ult1        False\n",
       "ind_aval_fin_ult1        False\n",
       "ind_cco_fin_ult1         False\n",
       "ind_cder_fin_ult1        False\n",
       "ind_cno_fin_ult1         False\n",
       "ind_ctju_fin_ult1        False\n",
       "ind_ctma_fin_ult1        False\n",
       "ind_ctop_fin_ult1        False\n",
       "ind_ctpp_fin_ult1        False\n",
       "ind_deco_fin_ult1        False\n",
       "ind_deme_fin_ult1        False\n",
       "ind_dela_fin_ult1        False\n",
       "ind_ecue_fin_ult1        False\n",
       "ind_fond_fin_ult1        False\n",
       "ind_hip_fin_ult1         False\n",
       "ind_plan_fin_ult1        False\n",
       "ind_pres_fin_ult1        False\n",
       "ind_reca_fin_ult1        False\n",
       "ind_tjcr_fin_ult1        False\n",
       "ind_valo_fin_ult1        False\n",
       "ind_viv_fin_ult1         False\n",
       "ind_nomina_ult1          False\n",
       "ind_nom_pens_ult1        False\n",
       "ind_recibo_ult1          False\n",
       "month                    False\n",
       "dtype: bool"
      ]
     },
     "execution_count": 61,
     "metadata": {},
     "output_type": "execute_result"
    }
   ],
   "source": [
    "df.isnull().any()"
   ]
  },
  {
   "cell_type": "code",
   "execution_count": 62,
   "metadata": {
    "collapsed": true
   },
   "outputs": [],
   "source": [
    "df.drop([\"index\"],axis=1,inplace=True)"
   ]
  },
  {
   "cell_type": "code",
   "execution_count": 65,
   "metadata": {
    "collapsed": false
   },
   "outputs": [],
   "source": [
    "df.to_csv(path_or_buf='data.csv', sep=',') "
   ]
  },
  {
   "cell_type": "code",
   "execution_count": null,
   "metadata": {
    "collapsed": true
   },
   "outputs": [],
   "source": []
  },
  {
   "cell_type": "code",
   "execution_count": null,
   "metadata": {
    "collapsed": true
   },
   "outputs": [],
   "source": []
  }
 ],
 "metadata": {
  "_change_revision": 4,
  "_is_fork": false,
  "kernelspec": {
   "display_name": "Python [Root]",
   "language": "python",
   "name": "Python [Root]"
  },
  "language_info": {
   "codemirror_mode": {
    "name": "ipython",
    "version": 3
   },
   "file_extension": ".py",
   "mimetype": "text/x-python",
   "name": "python",
   "nbconvert_exporter": "python",
   "pygments_lexer": "ipython3",
   "version": "3.5.2"
  }
 },
 "nbformat": 4,
 "nbformat_minor": 0
}
